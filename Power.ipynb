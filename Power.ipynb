{
 "cells": [
  {
   "cell_type": "code",
   "execution_count": 1,
   "metadata": {},
   "outputs": [],
   "source": [
    "%matplotlib inline\n",
    "import os\n",
    "import numpy as np\n",
    "import pandas as pd\n",
    "import matplotlib.pyplot as plt\n",
    "from matplotlib.dates import date2num\n",
    "from pandas.tseries import converter\n",
    "converter.register()\n",
    "from statsmodels.tsa.arima_model import ARIMA\n",
    "import statsmodels.api as sm"
   ]
  },
  {
   "cell_type": "code",
   "execution_count": 2,
   "metadata": {},
   "outputs": [],
   "source": [
    "DATA_DIR = os.path.join('.', 'data')"
   ]
  },
  {
   "cell_type": "code",
   "execution_count": 3,
   "metadata": {},
   "outputs": [],
   "source": [
    "data_paths = {'train': os.path.join(DATA_DIR, 'train.csv'), \n",
    "              'metadata':  os.path.join(DATA_DIR, 'metadata.csv'),\n",
    "              'weather':  os.path.join(DATA_DIR, 'weather.csv'),\n",
    "              'holidays':  os.path.join(DATA_DIR, 'holidays.csv'),\n",
    "              'submission_format':  os.path.join(DATA_DIR, 'submission_format.csv')}"
   ]
  },
  {
   "cell_type": "code",
   "execution_count": 4,
   "metadata": {},
   "outputs": [],
   "source": [
    "train_test = pd.read_csv(data_paths['train'], nrows=100)\n",
    "float_cols = [c for c in train_test if train_test[c].dtype == \"float64\"]\n",
    "float32_cols = {c: np.float32 for c in float_cols}"
   ]
  },
  {
   "cell_type": "code",
   "execution_count": 5,
   "metadata": {},
   "outputs": [],
   "source": [
    "train_test = pd.read_csv(data_paths['train'],nrows=100)\n",
    "float_cols = [c for c in train_test if train_test[c].dtype == \"float64\"]\n",
    "float32_cols = {c: np.float32 for c in float_cols}\n",
    "train = pd.read_csv(data_paths['train'], engine='c',dtype=float32_cols)\n",
    "\n",
    "train['meter_id'] = train['meter_id'].apply(str)\n",
    "train['Timestamp'] = pd.to_datetime(train['Timestamp'])\n",
    "train['Date'] = train.Timestamp.apply(lambda x: x.date())\n",
    "train['Date'] = train['Date'].astype('<M8[ns]')\n",
    "train['DayOfWeek'] = train['Date'].dt.weekday_name\n",
    "train.rename({'Unnamed: 0':'obs_id'}, axis='columns', inplace=True)"
   ]
  },
  {
   "cell_type": "code",
   "execution_count": 8,
   "metadata": {},
   "outputs": [
    {
     "data": {
      "text/html": [
       "<div>\n",
       "<style scoped>\n",
       "    .dataframe tbody tr th:only-of-type {\n",
       "        vertical-align: middle;\n",
       "    }\n",
       "\n",
       "    .dataframe tbody tr th {\n",
       "        vertical-align: top;\n",
       "    }\n",
       "\n",
       "    .dataframe thead th {\n",
       "        text-align: right;\n",
       "    }\n",
       "</style>\n",
       "<table border=\"1\" class=\"dataframe\">\n",
       "  <thead>\n",
       "    <tr style=\"text-align: right;\">\n",
       "      <th></th>\n",
       "      <th>meter_id</th>\n",
       "      <th>site_id</th>\n",
       "      <th>meter_description</th>\n",
       "      <th>units</th>\n",
       "      <th>surface</th>\n",
       "      <th>activity</th>\n",
       "    </tr>\n",
       "  </thead>\n",
       "  <tbody>\n",
       "    <tr>\n",
       "      <th>0</th>\n",
       "      <td>234_203</td>\n",
       "      <td>234_203</td>\n",
       "      <td>virtual main</td>\n",
       "      <td>Wh</td>\n",
       "      <td>5750.0</td>\n",
       "      <td>office</td>\n",
       "    </tr>\n",
       "    <tr>\n",
       "      <th>1</th>\n",
       "      <td>863</td>\n",
       "      <td>234_203</td>\n",
       "      <td>main meter</td>\n",
       "      <td>Wh</td>\n",
       "      <td>5750.0</td>\n",
       "      <td>office</td>\n",
       "    </tr>\n",
       "    <tr>\n",
       "      <th>2</th>\n",
       "      <td>869</td>\n",
       "      <td>234_203</td>\n",
       "      <td>other</td>\n",
       "      <td>Wh</td>\n",
       "      <td>5750.0</td>\n",
       "      <td>office</td>\n",
       "    </tr>\n",
       "    <tr>\n",
       "      <th>3</th>\n",
       "      <td>872</td>\n",
       "      <td>234_203</td>\n",
       "      <td>elevators</td>\n",
       "      <td>Wh</td>\n",
       "      <td>5750.0</td>\n",
       "      <td>office</td>\n",
       "    </tr>\n",
       "    <tr>\n",
       "      <th>4</th>\n",
       "      <td>875</td>\n",
       "      <td>234_203</td>\n",
       "      <td>Lighting</td>\n",
       "      <td>Wh</td>\n",
       "      <td>5750.0</td>\n",
       "      <td>office</td>\n",
       "    </tr>\n",
       "  </tbody>\n",
       "</table>\n",
       "</div>"
      ],
      "text/plain": [
       "  meter_id  site_id meter_description units  surface activity\n",
       "0  234_203  234_203      virtual main    Wh   5750.0   office\n",
       "1      863  234_203        main meter    Wh   5750.0   office\n",
       "2      869  234_203             other    Wh   5750.0   office\n",
       "3      872  234_203         elevators    Wh   5750.0   office\n",
       "4      875  234_203          Lighting    Wh   5750.0   office"
      ]
     },
     "execution_count": 8,
     "metadata": {},
     "output_type": "execute_result"
    }
   ],
   "source": [
    "metadata = pd.read_csv(data_paths['metadata'])\n",
    "metadata.head()"
   ]
  },
  {
   "cell_type": "code",
   "execution_count": 10,
   "metadata": {},
   "outputs": [],
   "source": [
    "weather = pd.read_csv(data_paths['weather'], index_col=0)\n",
    "weather['Timestamp'] = pd.to_datetime(weather['Timestamp'])\n",
    "weather.loc[weather.site_id=='38','site_id'] = '038'"
   ]
  },
  {
   "cell_type": "code",
   "execution_count": 11,
   "metadata": {},
   "outputs": [
    {
     "data": {
      "text/html": [
       "<div>\n",
       "<style scoped>\n",
       "    .dataframe tbody tr th:only-of-type {\n",
       "        vertical-align: middle;\n",
       "    }\n",
       "\n",
       "    .dataframe tbody tr th {\n",
       "        vertical-align: top;\n",
       "    }\n",
       "\n",
       "    .dataframe thead th {\n",
       "        text-align: right;\n",
       "    }\n",
       "</style>\n",
       "<table border=\"1\" class=\"dataframe\">\n",
       "  <thead>\n",
       "    <tr style=\"text-align: right;\">\n",
       "      <th></th>\n",
       "      <th>Timestamp</th>\n",
       "      <th>Temperature</th>\n",
       "      <th>Distance</th>\n",
       "      <th>site_id</th>\n",
       "    </tr>\n",
       "  </thead>\n",
       "  <tbody>\n",
       "    <tr>\n",
       "      <th>42628</th>\n",
       "      <td>2012-01-01 01:00:00</td>\n",
       "      <td>3.9</td>\n",
       "      <td>11.902932</td>\n",
       "      <td>038</td>\n",
       "    </tr>\n",
       "    <tr>\n",
       "      <th>42629</th>\n",
       "      <td>2012-01-01 02:00:00</td>\n",
       "      <td>4.1</td>\n",
       "      <td>11.902932</td>\n",
       "      <td>038</td>\n",
       "    </tr>\n",
       "    <tr>\n",
       "      <th>42630</th>\n",
       "      <td>2012-01-01 03:00:00</td>\n",
       "      <td>4.2</td>\n",
       "      <td>11.902932</td>\n",
       "      <td>038</td>\n",
       "    </tr>\n",
       "    <tr>\n",
       "      <th>42631</th>\n",
       "      <td>2012-01-01 04:00:00</td>\n",
       "      <td>4.1</td>\n",
       "      <td>11.902932</td>\n",
       "      <td>038</td>\n",
       "    </tr>\n",
       "    <tr>\n",
       "      <th>42632</th>\n",
       "      <td>2012-01-01 05:00:00</td>\n",
       "      <td>4.3</td>\n",
       "      <td>11.902932</td>\n",
       "      <td>038</td>\n",
       "    </tr>\n",
       "  </tbody>\n",
       "</table>\n",
       "</div>"
      ],
      "text/plain": [
       "                Timestamp  Temperature   Distance site_id\n",
       "42628 2012-01-01 01:00:00          3.9  11.902932     038\n",
       "42629 2012-01-01 02:00:00          4.1  11.902932     038\n",
       "42630 2012-01-01 03:00:00          4.2  11.902932     038\n",
       "42631 2012-01-01 04:00:00          4.1  11.902932     038\n",
       "42632 2012-01-01 05:00:00          4.3  11.902932     038"
      ]
     },
     "execution_count": 11,
     "metadata": {},
     "output_type": "execute_result"
    }
   ],
   "source": [
    "weather.head()"
   ]
  },
  {
   "cell_type": "code",
   "execution_count": 12,
   "metadata": {},
   "outputs": [],
   "source": [
    "holidays = pd.read_csv(data_paths['holidays'], index_col=0)\n",
    "holidays['Date'] = pd.to_datetime(holidays['Date'])\n",
    "holidays = holidays.groupby(['Date','site_id']).min().reset_index()"
   ]
  },
  {
   "cell_type": "code",
   "execution_count": 13,
   "metadata": {},
   "outputs": [
    {
     "data": {
      "text/html": [
       "<div>\n",
       "<style scoped>\n",
       "    .dataframe tbody tr th:only-of-type {\n",
       "        vertical-align: middle;\n",
       "    }\n",
       "\n",
       "    .dataframe tbody tr th {\n",
       "        vertical-align: top;\n",
       "    }\n",
       "\n",
       "    .dataframe thead th {\n",
       "        text-align: right;\n",
       "    }\n",
       "</style>\n",
       "<table border=\"1\" class=\"dataframe\">\n",
       "  <thead>\n",
       "    <tr style=\"text-align: right;\">\n",
       "      <th></th>\n",
       "      <th>Date</th>\n",
       "      <th>site_id</th>\n",
       "      <th>Holiday</th>\n",
       "    </tr>\n",
       "  </thead>\n",
       "  <tbody>\n",
       "    <tr>\n",
       "      <th>0</th>\n",
       "      <td>2010-01-01</td>\n",
       "      <td>038</td>\n",
       "      <td>New year</td>\n",
       "    </tr>\n",
       "    <tr>\n",
       "      <th>1</th>\n",
       "      <td>2010-01-01</td>\n",
       "      <td>334_61</td>\n",
       "      <td>New year</td>\n",
       "    </tr>\n",
       "    <tr>\n",
       "      <th>2</th>\n",
       "      <td>2010-01-06</td>\n",
       "      <td>334_61</td>\n",
       "      <td>Epiphany</td>\n",
       "    </tr>\n",
       "    <tr>\n",
       "      <th>3</th>\n",
       "      <td>2010-02-15</td>\n",
       "      <td>334_61</td>\n",
       "      <td>Clean Monday</td>\n",
       "    </tr>\n",
       "    <tr>\n",
       "      <th>4</th>\n",
       "      <td>2010-03-25</td>\n",
       "      <td>334_61</td>\n",
       "      <td>Annunciation</td>\n",
       "    </tr>\n",
       "  </tbody>\n",
       "</table>\n",
       "</div>"
      ],
      "text/plain": [
       "        Date site_id       Holiday\n",
       "0 2010-01-01     038      New year\n",
       "1 2010-01-01  334_61      New year\n",
       "2 2010-01-06  334_61      Epiphany\n",
       "3 2010-02-15  334_61  Clean Monday\n",
       "4 2010-03-25  334_61  Annunciation"
      ]
     },
     "execution_count": 13,
     "metadata": {},
     "output_type": "execute_result"
    }
   ],
   "source": [
    "holidays.head()"
   ]
  },
  {
   "cell_type": "code",
   "execution_count": 14,
   "metadata": {},
   "outputs": [],
   "source": [
    "submission_format = pd.read_csv(data_paths['submission_format'], index_col=0)"
   ]
  },
  {
   "cell_type": "code",
   "execution_count": 15,
   "metadata": {},
   "outputs": [
    {
     "data": {
      "text/html": [
       "<div>\n",
       "<style scoped>\n",
       "    .dataframe tbody tr th:only-of-type {\n",
       "        vertical-align: middle;\n",
       "    }\n",
       "\n",
       "    .dataframe tbody tr th {\n",
       "        vertical-align: top;\n",
       "    }\n",
       "\n",
       "    .dataframe thead th {\n",
       "        text-align: right;\n",
       "    }\n",
       "</style>\n",
       "<table border=\"1\" class=\"dataframe\">\n",
       "  <thead>\n",
       "    <tr style=\"text-align: right;\">\n",
       "      <th></th>\n",
       "      <th>obs_id</th>\n",
       "      <th>meter_id</th>\n",
       "      <th>Timestamp</th>\n",
       "      <th>Values</th>\n",
       "      <th>Date</th>\n",
       "      <th>DayOfWeek</th>\n",
       "    </tr>\n",
       "  </thead>\n",
       "  <tbody>\n",
       "    <tr>\n",
       "      <th>0</th>\n",
       "      <td>2532</td>\n",
       "      <td>2</td>\n",
       "      <td>2015-06-11 00:00:00</td>\n",
       "      <td>2035.0</td>\n",
       "      <td>2015-06-11</td>\n",
       "      <td>Thursday</td>\n",
       "    </tr>\n",
       "    <tr>\n",
       "      <th>1</th>\n",
       "      <td>2543</td>\n",
       "      <td>2</td>\n",
       "      <td>2015-06-11 00:15:00</td>\n",
       "      <td>2074.0</td>\n",
       "      <td>2015-06-11</td>\n",
       "      <td>Thursday</td>\n",
       "    </tr>\n",
       "    <tr>\n",
       "      <th>2</th>\n",
       "      <td>2544</td>\n",
       "      <td>2</td>\n",
       "      <td>2015-06-11 00:30:00</td>\n",
       "      <td>2062.0</td>\n",
       "      <td>2015-06-11</td>\n",
       "      <td>Thursday</td>\n",
       "    </tr>\n",
       "    <tr>\n",
       "      <th>3</th>\n",
       "      <td>2525</td>\n",
       "      <td>2</td>\n",
       "      <td>2015-06-11 00:45:00</td>\n",
       "      <td>2025.0</td>\n",
       "      <td>2015-06-11</td>\n",
       "      <td>Thursday</td>\n",
       "    </tr>\n",
       "    <tr>\n",
       "      <th>4</th>\n",
       "      <td>2534</td>\n",
       "      <td>2</td>\n",
       "      <td>2015-06-11 01:00:00</td>\n",
       "      <td>2034.0</td>\n",
       "      <td>2015-06-11</td>\n",
       "      <td>Thursday</td>\n",
       "    </tr>\n",
       "  </tbody>\n",
       "</table>\n",
       "</div>"
      ],
      "text/plain": [
       "   obs_id meter_id           Timestamp  Values       Date DayOfWeek\n",
       "0    2532        2 2015-06-11 00:00:00  2035.0 2015-06-11  Thursday\n",
       "1    2543        2 2015-06-11 00:15:00  2074.0 2015-06-11  Thursday\n",
       "2    2544        2 2015-06-11 00:30:00  2062.0 2015-06-11  Thursday\n",
       "3    2525        2 2015-06-11 00:45:00  2025.0 2015-06-11  Thursday\n",
       "4    2534        2 2015-06-11 01:00:00  2034.0 2015-06-11  Thursday"
      ]
     },
     "execution_count": 15,
     "metadata": {},
     "output_type": "execute_result"
    }
   ],
   "source": [
    "train.head()"
   ]
  },
  {
   "cell_type": "code",
   "execution_count": 16,
   "metadata": {},
   "outputs": [
    {
     "data": {
      "text/html": [
       "<div>\n",
       "<style scoped>\n",
       "    .dataframe tbody tr th:only-of-type {\n",
       "        vertical-align: middle;\n",
       "    }\n",
       "\n",
       "    .dataframe tbody tr th {\n",
       "        vertical-align: top;\n",
       "    }\n",
       "\n",
       "    .dataframe thead th {\n",
       "        text-align: right;\n",
       "    }\n",
       "</style>\n",
       "<table border=\"1\" class=\"dataframe\">\n",
       "  <thead>\n",
       "    <tr style=\"text-align: right;\">\n",
       "      <th></th>\n",
       "      <th>meter_id</th>\n",
       "      <th>site_id</th>\n",
       "      <th>meter_description</th>\n",
       "      <th>units</th>\n",
       "      <th>surface</th>\n",
       "      <th>activity</th>\n",
       "    </tr>\n",
       "  </thead>\n",
       "  <tbody>\n",
       "    <tr>\n",
       "      <th>0</th>\n",
       "      <td>234_203</td>\n",
       "      <td>234_203</td>\n",
       "      <td>virtual main</td>\n",
       "      <td>Wh</td>\n",
       "      <td>5750.0</td>\n",
       "      <td>office</td>\n",
       "    </tr>\n",
       "    <tr>\n",
       "      <th>1</th>\n",
       "      <td>863</td>\n",
       "      <td>234_203</td>\n",
       "      <td>main meter</td>\n",
       "      <td>Wh</td>\n",
       "      <td>5750.0</td>\n",
       "      <td>office</td>\n",
       "    </tr>\n",
       "    <tr>\n",
       "      <th>2</th>\n",
       "      <td>869</td>\n",
       "      <td>234_203</td>\n",
       "      <td>other</td>\n",
       "      <td>Wh</td>\n",
       "      <td>5750.0</td>\n",
       "      <td>office</td>\n",
       "    </tr>\n",
       "    <tr>\n",
       "      <th>3</th>\n",
       "      <td>872</td>\n",
       "      <td>234_203</td>\n",
       "      <td>elevators</td>\n",
       "      <td>Wh</td>\n",
       "      <td>5750.0</td>\n",
       "      <td>office</td>\n",
       "    </tr>\n",
       "    <tr>\n",
       "      <th>4</th>\n",
       "      <td>875</td>\n",
       "      <td>234_203</td>\n",
       "      <td>Lighting</td>\n",
       "      <td>Wh</td>\n",
       "      <td>5750.0</td>\n",
       "      <td>office</td>\n",
       "    </tr>\n",
       "  </tbody>\n",
       "</table>\n",
       "</div>"
      ],
      "text/plain": [
       "  meter_id  site_id meter_description units  surface activity\n",
       "0  234_203  234_203      virtual main    Wh   5750.0   office\n",
       "1      863  234_203        main meter    Wh   5750.0   office\n",
       "2      869  234_203             other    Wh   5750.0   office\n",
       "3      872  234_203         elevators    Wh   5750.0   office\n",
       "4      875  234_203          Lighting    Wh   5750.0   office"
      ]
     },
     "execution_count": 16,
     "metadata": {},
     "output_type": "execute_result"
    }
   ],
   "source": [
    "metadata.head()"
   ]
  },
  {
   "cell_type": "code",
   "execution_count": 17,
   "metadata": {},
   "outputs": [
    {
     "data": {
      "text/html": [
       "<div>\n",
       "<style scoped>\n",
       "    .dataframe tbody tr th:only-of-type {\n",
       "        vertical-align: middle;\n",
       "    }\n",
       "\n",
       "    .dataframe tbody tr th {\n",
       "        vertical-align: top;\n",
       "    }\n",
       "\n",
       "    .dataframe thead th {\n",
       "        text-align: right;\n",
       "    }\n",
       "</style>\n",
       "<table border=\"1\" class=\"dataframe\">\n",
       "  <thead>\n",
       "    <tr style=\"text-align: right;\">\n",
       "      <th></th>\n",
       "      <th>Date</th>\n",
       "      <th>site_id</th>\n",
       "      <th>Holiday</th>\n",
       "    </tr>\n",
       "  </thead>\n",
       "  <tbody>\n",
       "    <tr>\n",
       "      <th>0</th>\n",
       "      <td>2010-01-01</td>\n",
       "      <td>038</td>\n",
       "      <td>New year</td>\n",
       "    </tr>\n",
       "    <tr>\n",
       "      <th>1</th>\n",
       "      <td>2010-01-01</td>\n",
       "      <td>334_61</td>\n",
       "      <td>New year</td>\n",
       "    </tr>\n",
       "    <tr>\n",
       "      <th>2</th>\n",
       "      <td>2010-01-06</td>\n",
       "      <td>334_61</td>\n",
       "      <td>Epiphany</td>\n",
       "    </tr>\n",
       "    <tr>\n",
       "      <th>3</th>\n",
       "      <td>2010-02-15</td>\n",
       "      <td>334_61</td>\n",
       "      <td>Clean Monday</td>\n",
       "    </tr>\n",
       "    <tr>\n",
       "      <th>4</th>\n",
       "      <td>2010-03-25</td>\n",
       "      <td>334_61</td>\n",
       "      <td>Annunciation</td>\n",
       "    </tr>\n",
       "  </tbody>\n",
       "</table>\n",
       "</div>"
      ],
      "text/plain": [
       "        Date site_id       Holiday\n",
       "0 2010-01-01     038      New year\n",
       "1 2010-01-01  334_61      New year\n",
       "2 2010-01-06  334_61      Epiphany\n",
       "3 2010-02-15  334_61  Clean Monday\n",
       "4 2010-03-25  334_61  Annunciation"
      ]
     },
     "execution_count": 17,
     "metadata": {},
     "output_type": "execute_result"
    }
   ],
   "source": [
    "holidays.head()"
   ]
  },
  {
   "cell_type": "code",
   "execution_count": 18,
   "metadata": {},
   "outputs": [
    {
     "data": {
      "text/html": [
       "<div>\n",
       "<style scoped>\n",
       "    .dataframe tbody tr th:only-of-type {\n",
       "        vertical-align: middle;\n",
       "    }\n",
       "\n",
       "    .dataframe tbody tr th {\n",
       "        vertical-align: top;\n",
       "    }\n",
       "\n",
       "    .dataframe thead th {\n",
       "        text-align: right;\n",
       "    }\n",
       "</style>\n",
       "<table border=\"1\" class=\"dataframe\">\n",
       "  <thead>\n",
       "    <tr style=\"text-align: right;\">\n",
       "      <th></th>\n",
       "      <th>Timestamp</th>\n",
       "      <th>Temperature</th>\n",
       "      <th>Distance</th>\n",
       "      <th>site_id</th>\n",
       "    </tr>\n",
       "  </thead>\n",
       "  <tbody>\n",
       "    <tr>\n",
       "      <th>42628</th>\n",
       "      <td>2012-01-01 01:00:00</td>\n",
       "      <td>3.9</td>\n",
       "      <td>11.902932</td>\n",
       "      <td>038</td>\n",
       "    </tr>\n",
       "    <tr>\n",
       "      <th>42629</th>\n",
       "      <td>2012-01-01 02:00:00</td>\n",
       "      <td>4.1</td>\n",
       "      <td>11.902932</td>\n",
       "      <td>038</td>\n",
       "    </tr>\n",
       "    <tr>\n",
       "      <th>42630</th>\n",
       "      <td>2012-01-01 03:00:00</td>\n",
       "      <td>4.2</td>\n",
       "      <td>11.902932</td>\n",
       "      <td>038</td>\n",
       "    </tr>\n",
       "    <tr>\n",
       "      <th>42631</th>\n",
       "      <td>2012-01-01 04:00:00</td>\n",
       "      <td>4.1</td>\n",
       "      <td>11.902932</td>\n",
       "      <td>038</td>\n",
       "    </tr>\n",
       "    <tr>\n",
       "      <th>42632</th>\n",
       "      <td>2012-01-01 05:00:00</td>\n",
       "      <td>4.3</td>\n",
       "      <td>11.902932</td>\n",
       "      <td>038</td>\n",
       "    </tr>\n",
       "  </tbody>\n",
       "</table>\n",
       "</div>"
      ],
      "text/plain": [
       "                Timestamp  Temperature   Distance site_id\n",
       "42628 2012-01-01 01:00:00          3.9  11.902932     038\n",
       "42629 2012-01-01 02:00:00          4.1  11.902932     038\n",
       "42630 2012-01-01 03:00:00          4.2  11.902932     038\n",
       "42631 2012-01-01 04:00:00          4.1  11.902932     038\n",
       "42632 2012-01-01 05:00:00          4.3  11.902932     038"
      ]
     },
     "execution_count": 18,
     "metadata": {},
     "output_type": "execute_result"
    }
   ],
   "source": [
    "weather.head()"
   ]
  },
  {
   "cell_type": "code",
   "execution_count": 19,
   "metadata": {
    "scrolled": true
   },
   "outputs": [
    {
     "data": {
      "text/html": [
       "<div>\n",
       "<style scoped>\n",
       "    .dataframe tbody tr th:only-of-type {\n",
       "        vertical-align: middle;\n",
       "    }\n",
       "\n",
       "    .dataframe tbody tr th {\n",
       "        vertical-align: top;\n",
       "    }\n",
       "\n",
       "    .dataframe thead th {\n",
       "        text-align: right;\n",
       "    }\n",
       "</style>\n",
       "<table border=\"1\" class=\"dataframe\">\n",
       "  <thead>\n",
       "    <tr style=\"text-align: right;\">\n",
       "      <th></th>\n",
       "      <th>meter_id</th>\n",
       "      <th>Timestamp</th>\n",
       "      <th>is_abnormal</th>\n",
       "    </tr>\n",
       "    <tr>\n",
       "      <th>obs_id</th>\n",
       "      <th></th>\n",
       "      <th></th>\n",
       "      <th></th>\n",
       "    </tr>\n",
       "  </thead>\n",
       "  <tbody>\n",
       "    <tr>\n",
       "      <th>171227</th>\n",
       "      <td>234_203</td>\n",
       "      <td>2013-11-03 19:00:00</td>\n",
       "      <td>False</td>\n",
       "    </tr>\n",
       "    <tr>\n",
       "      <th>177020</th>\n",
       "      <td>234_203</td>\n",
       "      <td>2013-11-03 19:30:00</td>\n",
       "      <td>False</td>\n",
       "    </tr>\n",
       "    <tr>\n",
       "      <th>165375</th>\n",
       "      <td>234_203</td>\n",
       "      <td>2013-11-03 20:00:00</td>\n",
       "      <td>False</td>\n",
       "    </tr>\n",
       "    <tr>\n",
       "      <th>207176</th>\n",
       "      <td>234_203</td>\n",
       "      <td>2013-11-03 20:30:00</td>\n",
       "      <td>False</td>\n",
       "    </tr>\n",
       "    <tr>\n",
       "      <th>353253</th>\n",
       "      <td>234_203</td>\n",
       "      <td>2013-11-03 21:00:00</td>\n",
       "      <td>False</td>\n",
       "    </tr>\n",
       "  </tbody>\n",
       "</table>\n",
       "</div>"
      ],
      "text/plain": [
       "       meter_id            Timestamp  is_abnormal\n",
       "obs_id                                           \n",
       "171227  234_203  2013-11-03 19:00:00        False\n",
       "177020  234_203  2013-11-03 19:30:00        False\n",
       "165375  234_203  2013-11-03 20:00:00        False\n",
       "207176  234_203  2013-11-03 20:30:00        False\n",
       "353253  234_203  2013-11-03 21:00:00        False"
      ]
     },
     "execution_count": 19,
     "metadata": {},
     "output_type": "execute_result"
    }
   ],
   "source": [
    "submission_format.head()"
   ]
  },
  {
   "cell_type": "code",
   "execution_count": 20,
   "metadata": {},
   "outputs": [],
   "source": [
    "train_metadata = pd.merge(train, metadata, left_on=\"meter_id\", right_on=\"meter_id\",how='left')"
   ]
  },
  {
   "cell_type": "code",
   "execution_count": 21,
   "metadata": {},
   "outputs": [],
   "source": [
    "train_metadata['divisor'] = 1.0\n",
    "train_metadata.loc[train_metadata.units=='Wh','divisor']  = 1000.0"
   ]
  },
  {
   "cell_type": "code",
   "execution_count": 22,
   "metadata": {},
   "outputs": [],
   "source": [
    "train_metadata.Values = train_metadata.Values/ train_metadata.divisor"
   ]
  },
  {
   "cell_type": "code",
   "execution_count": 23,
   "metadata": {},
   "outputs": [],
   "source": [
    "train_metadata.loc[train_metadata.units=='Wh', 'units']= 'kWh'"
   ]
  },
  {
   "cell_type": "code",
   "execution_count": 24,
   "metadata": {},
   "outputs": [],
   "source": [
    "train_metadata_holidays = pd.merge(train_metadata, holidays,\\\n",
    "                                   left_on=[\"Date\",\"site_id\"],\\\n",
    "                                   right_on=[\"Date\",\"site_id\"],\\\n",
    "                                   how='left',suffixes=[\"\",\"_holidays\"])"
   ]
  },
  {
   "cell_type": "code",
   "execution_count": 25,
   "metadata": {
    "scrolled": true
   },
   "outputs": [
    {
     "data": {
      "text/html": [
       "<div>\n",
       "<style scoped>\n",
       "    .dataframe tbody tr th:only-of-type {\n",
       "        vertical-align: middle;\n",
       "    }\n",
       "\n",
       "    .dataframe tbody tr th {\n",
       "        vertical-align: top;\n",
       "    }\n",
       "\n",
       "    .dataframe thead th {\n",
       "        text-align: right;\n",
       "    }\n",
       "</style>\n",
       "<table border=\"1\" class=\"dataframe\">\n",
       "  <thead>\n",
       "    <tr style=\"text-align: right;\">\n",
       "      <th></th>\n",
       "      <th>obs_id</th>\n",
       "      <th>meter_id</th>\n",
       "      <th>Timestamp</th>\n",
       "      <th>Values</th>\n",
       "      <th>Date</th>\n",
       "      <th>DayOfWeek</th>\n",
       "      <th>site_id</th>\n",
       "      <th>meter_description</th>\n",
       "      <th>units</th>\n",
       "      <th>surface</th>\n",
       "      <th>activity</th>\n",
       "      <th>divisor</th>\n",
       "      <th>Holiday</th>\n",
       "    </tr>\n",
       "  </thead>\n",
       "  <tbody>\n",
       "    <tr>\n",
       "      <th>0</th>\n",
       "      <td>2532</td>\n",
       "      <td>2</td>\n",
       "      <td>2015-06-11 00:00:00</td>\n",
       "      <td>2.035</td>\n",
       "      <td>2015-06-11</td>\n",
       "      <td>Thursday</td>\n",
       "      <td>334_61</td>\n",
       "      <td>main meter</td>\n",
       "      <td>kWh</td>\n",
       "      <td>2000.0</td>\n",
       "      <td>office</td>\n",
       "      <td>1000.0</td>\n",
       "      <td>NaN</td>\n",
       "    </tr>\n",
       "    <tr>\n",
       "      <th>1</th>\n",
       "      <td>2543</td>\n",
       "      <td>2</td>\n",
       "      <td>2015-06-11 00:15:00</td>\n",
       "      <td>2.074</td>\n",
       "      <td>2015-06-11</td>\n",
       "      <td>Thursday</td>\n",
       "      <td>334_61</td>\n",
       "      <td>main meter</td>\n",
       "      <td>kWh</td>\n",
       "      <td>2000.0</td>\n",
       "      <td>office</td>\n",
       "      <td>1000.0</td>\n",
       "      <td>NaN</td>\n",
       "    </tr>\n",
       "    <tr>\n",
       "      <th>2</th>\n",
       "      <td>2544</td>\n",
       "      <td>2</td>\n",
       "      <td>2015-06-11 00:30:00</td>\n",
       "      <td>2.062</td>\n",
       "      <td>2015-06-11</td>\n",
       "      <td>Thursday</td>\n",
       "      <td>334_61</td>\n",
       "      <td>main meter</td>\n",
       "      <td>kWh</td>\n",
       "      <td>2000.0</td>\n",
       "      <td>office</td>\n",
       "      <td>1000.0</td>\n",
       "      <td>NaN</td>\n",
       "    </tr>\n",
       "    <tr>\n",
       "      <th>3</th>\n",
       "      <td>2525</td>\n",
       "      <td>2</td>\n",
       "      <td>2015-06-11 00:45:00</td>\n",
       "      <td>2.025</td>\n",
       "      <td>2015-06-11</td>\n",
       "      <td>Thursday</td>\n",
       "      <td>334_61</td>\n",
       "      <td>main meter</td>\n",
       "      <td>kWh</td>\n",
       "      <td>2000.0</td>\n",
       "      <td>office</td>\n",
       "      <td>1000.0</td>\n",
       "      <td>NaN</td>\n",
       "    </tr>\n",
       "    <tr>\n",
       "      <th>4</th>\n",
       "      <td>2534</td>\n",
       "      <td>2</td>\n",
       "      <td>2015-06-11 01:00:00</td>\n",
       "      <td>2.034</td>\n",
       "      <td>2015-06-11</td>\n",
       "      <td>Thursday</td>\n",
       "      <td>334_61</td>\n",
       "      <td>main meter</td>\n",
       "      <td>kWh</td>\n",
       "      <td>2000.0</td>\n",
       "      <td>office</td>\n",
       "      <td>1000.0</td>\n",
       "      <td>NaN</td>\n",
       "    </tr>\n",
       "  </tbody>\n",
       "</table>\n",
       "</div>"
      ],
      "text/plain": [
       "   obs_id meter_id           Timestamp  Values       Date DayOfWeek site_id  \\\n",
       "0    2532        2 2015-06-11 00:00:00   2.035 2015-06-11  Thursday  334_61   \n",
       "1    2543        2 2015-06-11 00:15:00   2.074 2015-06-11  Thursday  334_61   \n",
       "2    2544        2 2015-06-11 00:30:00   2.062 2015-06-11  Thursday  334_61   \n",
       "3    2525        2 2015-06-11 00:45:00   2.025 2015-06-11  Thursday  334_61   \n",
       "4    2534        2 2015-06-11 01:00:00   2.034 2015-06-11  Thursday  334_61   \n",
       "\n",
       "  meter_description units  surface activity  divisor Holiday  \n",
       "0        main meter   kWh   2000.0   office   1000.0     NaN  \n",
       "1        main meter   kWh   2000.0   office   1000.0     NaN  \n",
       "2        main meter   kWh   2000.0   office   1000.0     NaN  \n",
       "3        main meter   kWh   2000.0   office   1000.0     NaN  \n",
       "4        main meter   kWh   2000.0   office   1000.0     NaN  "
      ]
     },
     "execution_count": 25,
     "metadata": {},
     "output_type": "execute_result"
    }
   ],
   "source": [
    "train_metadata_holidays.head()"
   ]
  },
  {
   "cell_type": "code",
   "execution_count": 26,
   "metadata": {},
   "outputs": [],
   "source": [
    "train_metadata_holidays.loc[train_metadata_holidays.Holiday.notnull(),'isHoliday'] = 1\n",
    "train_metadata_holidays.loc[train_metadata_holidays.Holiday.isnull(),'isHoliday'] = 0"
   ]
  },
  {
   "cell_type": "code",
   "execution_count": 27,
   "metadata": {},
   "outputs": [
    {
     "data": {
      "text/html": [
       "<div>\n",
       "<style scoped>\n",
       "    .dataframe tbody tr th:only-of-type {\n",
       "        vertical-align: middle;\n",
       "    }\n",
       "\n",
       "    .dataframe tbody tr th {\n",
       "        vertical-align: top;\n",
       "    }\n",
       "\n",
       "    .dataframe thead th {\n",
       "        text-align: right;\n",
       "    }\n",
       "</style>\n",
       "<table border=\"1\" class=\"dataframe\">\n",
       "  <thead>\n",
       "    <tr style=\"text-align: right;\">\n",
       "      <th></th>\n",
       "      <th>obs_id</th>\n",
       "      <th>meter_id</th>\n",
       "      <th>Timestamp</th>\n",
       "      <th>Values</th>\n",
       "      <th>Date</th>\n",
       "      <th>DayOfWeek</th>\n",
       "      <th>site_id</th>\n",
       "      <th>meter_description</th>\n",
       "      <th>units</th>\n",
       "      <th>surface</th>\n",
       "      <th>activity</th>\n",
       "      <th>divisor</th>\n",
       "      <th>Holiday</th>\n",
       "      <th>isHoliday</th>\n",
       "    </tr>\n",
       "  </thead>\n",
       "  <tbody>\n",
       "    <tr>\n",
       "      <th>6240</th>\n",
       "      <td>8768</td>\n",
       "      <td>2</td>\n",
       "      <td>2015-08-15 00:00:00</td>\n",
       "      <td>2.833</td>\n",
       "      <td>2015-08-15</td>\n",
       "      <td>Saturday</td>\n",
       "      <td>334_61</td>\n",
       "      <td>main meter</td>\n",
       "      <td>kWh</td>\n",
       "      <td>2000.0</td>\n",
       "      <td>office</td>\n",
       "      <td>1000.0</td>\n",
       "      <td>Assumption of Mary to Heaven</td>\n",
       "      <td>1.0</td>\n",
       "    </tr>\n",
       "    <tr>\n",
       "      <th>6241</th>\n",
       "      <td>8745</td>\n",
       "      <td>2</td>\n",
       "      <td>2015-08-15 00:15:00</td>\n",
       "      <td>2.762</td>\n",
       "      <td>2015-08-15</td>\n",
       "      <td>Saturday</td>\n",
       "      <td>334_61</td>\n",
       "      <td>main meter</td>\n",
       "      <td>kWh</td>\n",
       "      <td>2000.0</td>\n",
       "      <td>office</td>\n",
       "      <td>1000.0</td>\n",
       "      <td>Assumption of Mary to Heaven</td>\n",
       "      <td>1.0</td>\n",
       "    </tr>\n",
       "    <tr>\n",
       "      <th>6242</th>\n",
       "      <td>8739</td>\n",
       "      <td>2</td>\n",
       "      <td>2015-08-15 00:30:00</td>\n",
       "      <td>2.743</td>\n",
       "      <td>2015-08-15</td>\n",
       "      <td>Saturday</td>\n",
       "      <td>334_61</td>\n",
       "      <td>main meter</td>\n",
       "      <td>kWh</td>\n",
       "      <td>2000.0</td>\n",
       "      <td>office</td>\n",
       "      <td>1000.0</td>\n",
       "      <td>Assumption of Mary to Heaven</td>\n",
       "      <td>1.0</td>\n",
       "    </tr>\n",
       "    <tr>\n",
       "      <th>6243</th>\n",
       "      <td>8738</td>\n",
       "      <td>2</td>\n",
       "      <td>2015-08-15 00:45:00</td>\n",
       "      <td>2.746</td>\n",
       "      <td>2015-08-15</td>\n",
       "      <td>Saturday</td>\n",
       "      <td>334_61</td>\n",
       "      <td>main meter</td>\n",
       "      <td>kWh</td>\n",
       "      <td>2000.0</td>\n",
       "      <td>office</td>\n",
       "      <td>1000.0</td>\n",
       "      <td>Assumption of Mary to Heaven</td>\n",
       "      <td>1.0</td>\n",
       "    </tr>\n",
       "    <tr>\n",
       "      <th>6244</th>\n",
       "      <td>8756</td>\n",
       "      <td>2</td>\n",
       "      <td>2015-08-15 01:00:00</td>\n",
       "      <td>2.787</td>\n",
       "      <td>2015-08-15</td>\n",
       "      <td>Saturday</td>\n",
       "      <td>334_61</td>\n",
       "      <td>main meter</td>\n",
       "      <td>kWh</td>\n",
       "      <td>2000.0</td>\n",
       "      <td>office</td>\n",
       "      <td>1000.0</td>\n",
       "      <td>Assumption of Mary to Heaven</td>\n",
       "      <td>1.0</td>\n",
       "    </tr>\n",
       "  </tbody>\n",
       "</table>\n",
       "</div>"
      ],
      "text/plain": [
       "      obs_id meter_id           Timestamp  Values       Date DayOfWeek  \\\n",
       "6240    8768        2 2015-08-15 00:00:00   2.833 2015-08-15  Saturday   \n",
       "6241    8745        2 2015-08-15 00:15:00   2.762 2015-08-15  Saturday   \n",
       "6242    8739        2 2015-08-15 00:30:00   2.743 2015-08-15  Saturday   \n",
       "6243    8738        2 2015-08-15 00:45:00   2.746 2015-08-15  Saturday   \n",
       "6244    8756        2 2015-08-15 01:00:00   2.787 2015-08-15  Saturday   \n",
       "\n",
       "     site_id meter_description units  surface activity  divisor  \\\n",
       "6240  334_61        main meter   kWh   2000.0   office   1000.0   \n",
       "6241  334_61        main meter   kWh   2000.0   office   1000.0   \n",
       "6242  334_61        main meter   kWh   2000.0   office   1000.0   \n",
       "6243  334_61        main meter   kWh   2000.0   office   1000.0   \n",
       "6244  334_61        main meter   kWh   2000.0   office   1000.0   \n",
       "\n",
       "                           Holiday  isHoliday  \n",
       "6240  Assumption of Mary to Heaven        1.0  \n",
       "6241  Assumption of Mary to Heaven        1.0  \n",
       "6242  Assumption of Mary to Heaven        1.0  \n",
       "6243  Assumption of Mary to Heaven        1.0  \n",
       "6244  Assumption of Mary to Heaven        1.0  "
      ]
     },
     "execution_count": 27,
     "metadata": {},
     "output_type": "execute_result"
    }
   ],
   "source": [
    "train_metadata_holidays[train_metadata_holidays.isHoliday == 1].head()"
   ]
  },
  {
   "cell_type": "code",
   "execution_count": 28,
   "metadata": {},
   "outputs": [],
   "source": [
    "train_metadata_holidays['ValuesShifted'] = train_metadata_holidays['Values'].shift(1)\n",
    "train_metadata_holidays['ValuesDifferential'] = train_metadata_holidays['Values']-train_metadata_holidays['ValuesShifted']\n",
    "#These turning points are missing from the final output, so setting them to NaN instead\n",
    "train_metadata_holidays.loc[train_metadata_holidays.ValuesDifferential<0,'ValuesDifferential'] = np.nan#train_metadata_holidays.Values"
   ]
  },
  {
   "cell_type": "code",
   "execution_count": 29,
   "metadata": {},
   "outputs": [],
   "source": [
    "train_metadata_holidays['isHolidayTomorrow'] = train_metadata_holidays['isHoliday'].shift(-1)\n",
    "train_metadata_holidays['isHolidayYesterday'] = train_metadata_holidays['isHoliday'].shift(1)"
   ]
  },
  {
   "cell_type": "code",
   "execution_count": 30,
   "metadata": {},
   "outputs": [
    {
     "data": {
      "text/plain": [
       "obs_id\n",
       "171227    234_203\n",
       "93325      334_61\n",
       "198212    38_9686\n",
       "Name: meter_id, dtype: object"
      ]
     },
     "execution_count": 30,
     "metadata": {},
     "output_type": "execute_result"
    }
   ],
   "source": [
    "submission_format.meter_id.drop_duplicates()"
   ]
  },
  {
   "cell_type": "code",
   "execution_count": 31,
   "metadata": {},
   "outputs": [],
   "source": [
    "site_id_one = train_metadata_holidays[train_metadata_holidays.meter_id=='234_203']['site_id'].drop_duplicates().values[0]\n",
    "site_id_two = train_metadata_holidays[train_metadata_holidays.meter_id=='334_61']['site_id'].drop_duplicates().values[0]\n",
    "site_id_three = train_metadata_holidays[train_metadata_holidays.meter_id=='38_9686']['site_id'].drop_duplicates().values[0]"
   ]
  },
  {
   "cell_type": "code",
   "execution_count": 32,
   "metadata": {},
   "outputs": [],
   "source": [
    "site_one = train_metadata_holidays[(train_metadata_holidays.site_id==site_id_one) &\\\n",
    "                                   ((train_metadata_holidays.meter_id=='234_203'))]"
   ]
  },
  {
   "cell_type": "code",
   "execution_count": 33,
   "metadata": {},
   "outputs": [],
   "source": [
    "site_two = train_metadata_holidays[(train_metadata_holidays.site_id==site_id_two) &\\\n",
    "                                   ((train_metadata_holidays.meter_id=='334_61'))]"
   ]
  },
  {
   "cell_type": "code",
   "execution_count": 34,
   "metadata": {},
   "outputs": [],
   "source": [
    "site_three = train_metadata_holidays[(train_metadata_holidays.site_id==site_id_three) &\\\n",
    "                                   ((train_metadata_holidays.meter_id=='38_9686'))]"
   ]
  },
  {
   "cell_type": "code",
   "execution_count": 35,
   "metadata": {},
   "outputs": [],
   "source": [
    "site_one_meters = train_metadata_holidays[(train_metadata_holidays.site_id==site_id_one)].meter_id.drop_duplicates().values\n",
    "for meter_id in site_one_meters:\n",
    "    df = train_metadata_holidays[(train_metadata_holidays.meter_id==meter_id)][['Timestamp','Values']]\n",
    "    site_one = pd.merge_asof(site_one, df,\\\n",
    "                                   left_on=[\"Timestamp\"],\\\n",
    "                                   right_on=[\"Timestamp\"],\\\n",
    "                                   suffixes=[\"\",\"_\" + meter_id])\n",
    "    site_one['Values_' + meter_id] = site_one['Values_' + meter_id].shift(-1)\n",
    "    site_one['Median_' + meter_id] = pd.rolling_mean(site_one['Values_' + meter_id],window = 10, min_periods=1)\n",
    "site_one=site_one.dropna(axis=1,how='all')  "
   ]
  },
  {
   "cell_type": "code",
   "execution_count": 36,
   "metadata": {},
   "outputs": [],
   "source": [
    "site_one = site_one.drop(['ValuesDifferential','ValuesShifted'],axis=1)\n",
    "site_one=site_one.dropna(axis=1,how='all')   "
   ]
  },
  {
   "cell_type": "code",
   "execution_count": 37,
   "metadata": {},
   "outputs": [],
   "source": [
    "site_two_meters = train_metadata_holidays[(train_metadata_holidays.site_id==site_id_two)].meter_id.drop_duplicates().values\n",
    "for meter_id in site_two_meters:\n",
    "    df = train_metadata_holidays[(train_metadata_holidays.meter_id==meter_id)][['Timestamp','Values']]\n",
    "    site_two = pd.merge_asof(site_two, df,\\\n",
    "                                   left_on=[\"Timestamp\"],\\\n",
    "                                   right_on=[\"Timestamp\"],\\\n",
    "                                   suffixes=[\"\",\"_\" + meter_id])\n",
    "    site_two['Values_' + meter_id] = site_two['Values_' + meter_id].shift(-1)\n",
    "    site_two['Median_' + meter_id] = pd.rolling_mean(site_two['Values_' + meter_id],window = 10, min_periods=1)"
   ]
  },
  {
   "cell_type": "code",
   "execution_count": 38,
   "metadata": {},
   "outputs": [],
   "source": [
    "site_two = site_two.drop(['ValuesDifferential','ValuesShifted'],axis=1)\n",
    "site_two=site_two.dropna(axis=1,how='all') "
   ]
  },
  {
   "cell_type": "code",
   "execution_count": 39,
   "metadata": {},
   "outputs": [],
   "source": [
    "site_three_meters = train_metadata_holidays[(train_metadata_holidays.site_id==site_id_three)].meter_id.drop_duplicates().values\n",
    "for meter_id in site_three_meters:\n",
    "    df = train_metadata_holidays[(train_metadata_holidays.meter_id==meter_id)][['Timestamp','Values']]\n",
    "    site_three = pd.merge_asof(site_three, df,\\\n",
    "                                   left_on=[\"Timestamp\"],\\\n",
    "                                   right_on=[\"Timestamp\"],\\\n",
    "                                   suffixes=[\"\",\"_\" + meter_id])\n",
    "    site_three['Values_' + meter_id] = site_three['Values_' + meter_id].shift(-1)\n",
    "    site_three['Median_' + meter_id] = pd.rolling_mean(site_three['Values_' + meter_id],window = 10, min_periods=1)\n",
    "site_three.Values = site_three.ValuesDifferential    "
   ]
  },
  {
   "cell_type": "code",
   "execution_count": 40,
   "metadata": {},
   "outputs": [],
   "source": [
    "site_three=site_three.dropna(axis=1,how='all') \n",
    "site_three.Values = site_three.ValuesDifferential    "
   ]
  },
  {
   "cell_type": "code",
   "execution_count": 41,
   "metadata": {},
   "outputs": [],
   "source": [
    "site_three = site_three.drop(['ValuesDifferential','ValuesShifted'],axis=1)"
   ]
  },
  {
   "cell_type": "code",
   "execution_count": 42,
   "metadata": {},
   "outputs": [],
   "source": [
    "weather_site_one = weather[(weather.site_id==site_id_one)]\n",
    "weather_site_one.Distance = weather_site_one.Distance.astype(str)\n",
    "distances = list(weather_site_one.Distance.drop_duplicates().values)\n",
    "distances.sort(key=lambda x: float(x))\n",
    "min_distance = distances[0]\n",
    "weather_site_one.Distance = weather_site_one.Distance\n",
    "weather_site_one = weather_site_one.pivot_table(index='Timestamp',columns='Distance',values='Temperature').reset_index()\n",
    "\n",
    "for distance in distances[1:]:\n",
    "    weather_site_one[min_distance].fillna(weather_site_one[distance], inplace=True)\n",
    "    \n",
    "weather_site_one['Temperature'] = weather_site_one[min_distance]\n",
    "weather_site_one.drop(columns=distances,inplace=True)\n",
    "weather_site_one = weather_site_one.set_index('Timestamp').reindex(site_one.set_index('Timestamp').index, method=None).reset_index()\n",
    "weather_site_one['month'] = weather_site_one.Timestamp.dt.month\n",
    "weather_site_one['day'] = weather_site_one.Timestamp.dt.day\n",
    "weather_site_one['hour'] = weather_site_one.Timestamp.dt.hour\n",
    "weather_site_one['minute'] = weather_site_one.Timestamp.dt.minute\n",
    "weather_site_one_median = weather_site_one.groupby(['month','day','hour','minute']).median().reset_index()\n",
    "weather_site_one = pd.merge(weather_site_one,weather_site_one_median,\\\n",
    "                left_on = ['month','day','hour','minute'], \\\n",
    "                right_on = ['month','day','hour','minute'],\n",
    "                suffixes = ['','_median'])\n",
    "weather_site_one.Temperature = weather_site_one.Temperature.fillna(weather_site_one.Temperature_median)\n",
    "weather_site_one.drop(columns=['month','day','hour','minute','Temperature_median'],inplace = True, axis = 1)\n",
    "weather_site_one = weather_site_one.sort_values(by=['Timestamp'])"
   ]
  },
  {
   "cell_type": "code",
   "execution_count": 43,
   "metadata": {},
   "outputs": [],
   "source": [
    "weather_site_two = weather[(weather.site_id==site_id_two)]\n",
    "weather_site_two.Distance = weather_site_two.Distance.astype(str)\n",
    "distances = list(weather_site_two.Distance.drop_duplicates().values)\n",
    "distances.sort(key=lambda x: float(x))\n",
    "min_distance = distances[0]\n",
    "weather_site_two.Distance = weather_site_two.Distance\n",
    "weather_site_two = weather_site_two.pivot_table(index='Timestamp',columns='Distance',values='Temperature').reset_index()\n",
    "\n",
    "for distance in distances[1:]:\n",
    "    weather_site_two[min_distance].fillna(weather_site_two[distance], inplace=True)\n",
    "    \n",
    "weather_site_two['Temperature'] = weather_site_two[min_distance]\n",
    "weather_site_two.drop(columns=distances,inplace=True)\n",
    "\n",
    "weather_site_two['month'] = weather_site_two.Timestamp.dt.month\n",
    "weather_site_two['day'] = weather_site_two.Timestamp.dt.day\n",
    "weather_site_two['hour'] = weather_site_two.Timestamp.dt.hour\n",
    "weather_site_two['minute'] = weather_site_two.Timestamp.dt.minute\n",
    "weather_site_two_median = weather_site_two.groupby(['month','day','hour','minute']).median().reset_index()\n",
    "weather_site_two = weather_site_two.set_index('Timestamp').reindex(site_two.set_index('Timestamp').index, method=None).reset_index()\n",
    "weather_site_two = pd.merge(weather_site_two,weather_site_two_median,\\\n",
    "                left_on = ['month','day','hour','minute'], \\\n",
    "                right_on = ['month','day','hour','minute'],\n",
    "                suffixes = ['','_median'])\n",
    "weather_site_two.Temperature = weather_site_two.Temperature.fillna(weather_site_two.Temperature_median)\n",
    "weather_site_two.drop(columns=['month','day','hour','minute','Temperature_median'],inplace = True, axis = 1)\n",
    "weather_site_two = weather_site_two.sort_values(by=['Timestamp'])"
   ]
  },
  {
   "cell_type": "code",
   "execution_count": 44,
   "metadata": {},
   "outputs": [
    {
     "data": {
      "text/plain": [
       "[<matplotlib.lines.Line2D at 0xb2b16d8>]"
      ]
     },
     "execution_count": 44,
     "metadata": {},
     "output_type": "execute_result"
    },
    {
     "data": {
      "image/png": "[encoded data removed]",
      "text/plain": [
       "<matplotlib.figure.Figure at 0xb260128>"
      ]
     },
     "metadata": {},
     "output_type": "display_data"
    }
   ],
   "source": [
    "plt.plot(weather_site_two['Timestamp'], weather_site_two['Temperature'])"
   ]
  },
  {
   "cell_type": "code",
   "execution_count": 45,
   "metadata": {},
   "outputs": [],
   "source": [
    "site_three_local_weather = train_metadata_holidays[(train_metadata_holidays.site_id==site_id_three) &\\\n",
    "                        (train_metadata_holidays.meter_id=='38_0')][['Timestamp','Values','site_id']]\n",
    "site_three_local_weather.rename({'Values':'Temperature'}, axis=1, inplace=True)\n",
    "site_three_local_weather['Distance'] = 0.0\n",
    "site_three_local_weather = site_three_local_weather.reindex(columns=weather.columns)\n",
    "#site_three_local_weather = site_three_local_weather[site_three_local_weather.Temperature.notnull()]\n",
    "\n",
    "weather_site_three = pd.concat([weather[(weather.site_id==site_id_three)],site_three_local_weather])\n",
    "#weather_site_three = weather[(weather.site_id==site_id_three)]\n",
    "weather_site_three.Distance = weather_site_three.Distance.astype(str)\n",
    "distances = list(weather_site_three.Distance.drop_duplicates().values)\n",
    "distances.sort(key=lambda x: float(x))\n",
    "min_distance = distances[0]\n",
    "weather_site_three.Distance = weather_site_three.Distance\n",
    "weather_site_three = weather_site_three.pivot_table(index='Timestamp',columns='Distance',values='Temperature').reset_index()\n",
    "\n",
    "for distance in distances[1:]:\n",
    "    weather_site_three[min_distance].fillna(weather_site_three[distance], inplace=True)\n",
    "    \n",
    "weather_site_three['Temperature'] = weather_site_three[min_distance]\n",
    "weather_site_three.drop(columns=distances,inplace=True)\n",
    "\n",
    "weather_site_three['month'] = weather_site_three.Timestamp.dt.month\n",
    "weather_site_three['day'] = weather_site_three.Timestamp.dt.day\n",
    "weather_site_three['hour'] = weather_site_three.Timestamp.dt.hour\n",
    "weather_site_three['minute'] = weather_site_three.Timestamp.dt.minute\n",
    "weather_site_three_median = weather_site_three.groupby(['month','day','hour','minute']).median().reset_index()\n",
    "weather_site_three = weather_site_three.set_index('Timestamp').reindex(weather_site_three.set_index('Timestamp').index, method=None).reset_index()\n",
    "weather_site_three = pd.merge(weather_site_three,weather_site_three_median,\\\n",
    "                left_on = ['month','day','hour','minute'], \\\n",
    "                right_on = ['month','day','hour','minute'],\n",
    "                suffixes = ['','_median'])\n",
    "weather_site_three.Temperature = weather_site_three.Temperature.fillna(weather_site_three.Temperature_median)\n",
    "weather_site_three.drop(columns=['month','day','hour','minute','Temperature_median'],inplace = True, axis = 1)\n",
    "weather_site_three = weather_site_three.sort_values(by=['Timestamp'])\n",
    "weather_site_three = weather_site_three.dropna()"
   ]
  },
  {
   "cell_type": "code",
   "execution_count": 46,
   "metadata": {},
   "outputs": [
    {
     "data": {
      "text/plain": [
       "[<matplotlib.lines.Line2D at 0x12205be0>]"
      ]
     },
     "execution_count": 46,
     "metadata": {},
     "output_type": "execute_result"
    },
    {
     "data": {
      "image/png": "[encoded data removed]",
      "text/plain": [
       "<matplotlib.figure.Figure at 0x121e42b0>"
      ]
     },
     "metadata": {},
     "output_type": "display_data"
    }
   ],
   "source": [
    "plt.plot(weather_site_three['Timestamp'], weather_site_three['Temperature'])"
   ]
  },
  {
   "cell_type": "code",
   "execution_count": 47,
   "metadata": {},
   "outputs": [],
   "source": [
    "site_three_temp_sensors = metadata[(metadata.site_id=='038') & (metadata.meter_description=='temperature')]['meter_id'].values"
   ]
  },
  {
   "cell_type": "code",
   "execution_count": 48,
   "metadata": {},
   "outputs": [],
   "source": [
    "site_one_combined = pd.merge(site_one, weather_site_one, left_on=\"Timestamp\", right_on=\"Timestamp\")"
   ]
  },
  {
   "cell_type": "code",
   "execution_count": 49,
   "metadata": {},
   "outputs": [],
   "source": [
    "site_two_combined = pd.merge_asof(site_two, weather_site_two, left_on=\"Timestamp\", right_on=\"Timestamp\")"
   ]
  },
  {
   "cell_type": "code",
   "execution_count": 50,
   "metadata": {},
   "outputs": [],
   "source": [
    "site_three_combined = pd.merge_asof(site_three, weather_site_three, left_on=\"Timestamp\", right_on=\"Timestamp\")"
   ]
  },
  {
   "cell_type": "code",
   "execution_count": 51,
   "metadata": {},
   "outputs": [
    {
     "data": {
      "text/plain": [
       "[<matplotlib.lines.Line2D at 0x121fff28>]"
      ]
     },
     "execution_count": 51,
     "metadata": {},
     "output_type": "execute_result"
    },
    {
     "data": {
      "image/png": "[encoded data removed]",
      "text/plain": [
       "<matplotlib.figure.Figure at 0x119262e8>"
      ]
     },
     "metadata": {},
     "output_type": "display_data"
    }
   ],
   "source": [
    "plt.plot(site_one_combined['Timestamp'], site_one_combined['Temperature'])"
   ]
  },
  {
   "cell_type": "code",
   "execution_count": 52,
   "metadata": {},
   "outputs": [
    {
     "data": {
      "text/plain": [
       "[<matplotlib.lines.Line2D at 0x118fb320>]"
      ]
     },
     "execution_count": 52,
     "metadata": {},
     "output_type": "execute_result"
    },
    {
     "data": {
      "image/png": "[encoded data removed]",
      "text/plain": [
       "<matplotlib.figure.Figure at 0xd7fd710>"
      ]
     },
     "metadata": {},
     "output_type": "display_data"
    }
   ],
   "source": [
    "plt.plot(site_two_combined['Timestamp'], site_two_combined['Temperature'])"
   ]
  },
  {
   "cell_type": "code",
   "execution_count": 53,
   "metadata": {},
   "outputs": [
    {
     "data": {
      "text/plain": [
       "[<matplotlib.lines.Line2D at 0xf296f60>]"
      ]
     },
     "execution_count": 53,
     "metadata": {},
     "output_type": "execute_result"
    },
    {
     "data": {
      "image/png": "[encoded data removed]",
      "text/plain": [
       "<matplotlib.figure.Figure at 0xf296048>"
      ]
     },
     "metadata": {},
     "output_type": "display_data"
    }
   ],
   "source": [
    "plt.plot(site_three_combined['Timestamp'], site_three_combined['Temperature'])"
   ]
  },
  {
   "cell_type": "code",
   "execution_count": 54,
   "metadata": {},
   "outputs": [],
   "source": [
    "site_three_temp_sensors_filtered = list(filter(lambda x: 'Values_' + x in site_three_combined.columns,site_three_temp_sensors))"
   ]
  },
  {
   "cell_type": "code",
   "execution_count": 55,
   "metadata": {},
   "outputs": [],
   "source": [
    "for temp_sensor in site_three_temp_sensors_filtered:    \n",
    "    column_name = 'Values_' + temp_sensor\n",
    "    site_three_combined[column_name+'_delta'] = site_three_combined[column_name] - site_three_combined.Temperature"
   ]
  },
  {
   "cell_type": "code",
   "execution_count": 57,
   "metadata": {},
   "outputs": [],
   "source": [
    "site_one_combined.to_parquet(\"./data/site_one.parquet\")"
   ]
  },
  {
   "cell_type": "code",
   "execution_count": 58,
   "metadata": {},
   "outputs": [],
   "source": [
    "site_two_combined.to_parquet(\"./data/site_two.parquet\")"
   ]
  },
  {
   "cell_type": "code",
   "execution_count": 59,
   "metadata": {},
   "outputs": [],
   "source": [
    "site_three_combined.to_parquet(\"./data/site_three.parquet\")"
   ]
  },
  {
   "cell_type": "code",
   "execution_count": 60,
   "metadata": {},
   "outputs": [
    {
     "data": {
      "text/plain": [
       "[<matplotlib.lines.Line2D at 0x121e41d0>]"
      ]
     },
     "execution_count": 60,
     "metadata": {},
     "output_type": "execute_result"
    },
    {
     "data": {
      "image/png": "[encoded data removed]",
      "text/plain": [
       "<matplotlib.figure.Figure at 0xdc74780>"
      ]
     },
     "metadata": {},
     "output_type": "display_data"
    }
   ],
   "source": [
    "plt.plot(site_one_combined['Timestamp'], site_one_combined['Values'])"
   ]
  },
  {
   "cell_type": "code",
   "execution_count": 61,
   "metadata": {},
   "outputs": [
    {
     "data": {
      "text/plain": [
       "[<matplotlib.lines.Line2D at 0xdf04080>]"
      ]
     },
     "execution_count": 61,
     "metadata": {},
     "output_type": "execute_result"
    },
    {
     "data": {
      "image/png": "[encoded data removed]",
      "text/plain": [
       "<matplotlib.figure.Figure at 0xdcaf2b0>"
      ]
     },
     "metadata": {},
     "output_type": "display_data"
    }
   ],
   "source": [
    "plt.plot(site_two_combined['Timestamp'], site_two_combined['Values'])"
   ]
  },
  {
   "cell_type": "code",
   "execution_count": 62,
   "metadata": {},
   "outputs": [
    {
     "data": {
      "text/plain": [
       "[<matplotlib.lines.Line2D at 0xe4b3390>]"
      ]
     },
     "execution_count": 62,
     "metadata": {},
     "output_type": "execute_result"
    },
    {
     "data": {
      "image/png": "[encoded data removed]",
      "text/plain": [
       "<matplotlib.figure.Figure at 0xdf49be0>"
      ]
     },
     "metadata": {},
     "output_type": "display_data"
    }
   ],
   "source": [
    "plt.plot(site_three_combined['Timestamp'], site_three_combined['Values'])"
   ]
  },
  {
   "cell_type": "code",
   "execution_count": null,
   "metadata": {},
   "outputs": [],
   "source": []
  }
 ],
 "metadata": {
  "kernelspec": {
   "display_name": "Python 3",
   "language": "python",
   "name": "python3"
  },
  "language_info": {
   "codemirror_mode": {
    "name": "ipython",
    "version": 3
   },
   "file_extension": ".py",
   "mimetype": "text/x-python",
   "name": "python",
   "nbconvert_exporter": "python",
   "pygments_lexer": "ipython3",
   "version": "3.6.4"
  }
 },
 "nbformat": 4,
 "nbformat_minor": 2
}
