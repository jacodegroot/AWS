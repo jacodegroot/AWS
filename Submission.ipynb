{
 "cells": [
  {
   "cell_type": "code",
   "execution_count": 1,
   "metadata": {},
   "outputs": [
    {
     "name": "stderr",
     "output_type": "stream",
     "text": [
      "Using TensorFlow backend.\n"
     ]
    }
   ],
   "source": [
    "import os\n",
    "import numpy as np\n",
    "import pandas as pd\n",
    "import matplotlib.pyplot as plt\n",
    "# specific libraries for RNN\n",
    "# keras is a high layer build on Tensorflow layer to stay in high level/easy implementation\n",
    "from keras.layers.core import Dense, Activation, Dropout\n",
    "from keras.layers.recurrent import LSTM\n",
    "from keras.models import Sequential\n",
    "import time #helper libraries\n",
    "from keras.models import model_from_json\n",
    "import sys\n",
    "%matplotlib inline"
   ]
  },
  {
   "cell_type": "code",
   "execution_count": 2,
   "metadata": {},
   "outputs": [],
   "source": [
    "DATA_DIR = os.path.join('.', 'data')"
   ]
  },
  {
   "cell_type": "code",
   "execution_count": 3,
   "metadata": {},
   "outputs": [],
   "source": [
    "data_paths = {'train': os.path.join(DATA_DIR, 'train.csv'), \n",
    "              'metadata':  os.path.join(DATA_DIR, 'metadata.csv'),\n",
    "              'weather':  os.path.join(DATA_DIR, 'weather.csv'),\n",
    "              'holidays':  os.path.join(DATA_DIR, 'holidays.csv'),\n",
    "              'submission_format':  os.path.join(DATA_DIR, 'submission_format.csv')}"
   ]
  },
  {
   "cell_type": "code",
   "execution_count": 4,
   "metadata": {},
   "outputs": [],
   "source": [
    "site_one_combined = pd.read_parquet(\"./data/site_one.parquet\")\n",
    "site_one_combined = site_one_combined[site_one_combined.Values.notnull()]"
   ]
  },
  {
   "cell_type": "code",
   "execution_count": 5,
   "metadata": {},
   "outputs": [],
   "source": [
    "site_two_combined = pd.read_parquet(\"./data/site_two.parquet\")\n",
    "site_two_combined = site_two_combined[site_two_combined.Values.notnull()]"
   ]
  },
  {
   "cell_type": "code",
   "execution_count": 6,
   "metadata": {},
   "outputs": [],
   "source": [
    "site_three_combined = pd.read_parquet(\"./data/site_three.parquet\")\n",
    "site_three_combined = site_three_combined[site_three_combined.Values.notnull()]"
   ]
  },
  {
   "cell_type": "code",
   "execution_count": 7,
   "metadata": {},
   "outputs": [],
   "source": [
    "import time\n",
    "from sklearn import preprocessing"
   ]
  },
  {
   "cell_type": "code",
   "execution_count": 8,
   "metadata": {},
   "outputs": [
    {
     "data": {
      "text/html": [
       "<div>\n",
       "<style scoped>\n",
       "    .dataframe tbody tr th:only-of-type {\n",
       "        vertical-align: middle;\n",
       "    }\n",
       "\n",
       "    .dataframe tbody tr th {\n",
       "        vertical-align: top;\n",
       "    }\n",
       "\n",
       "    .dataframe thead th {\n",
       "        text-align: right;\n",
       "    }\n",
       "</style>\n",
       "<table border=\"1\" class=\"dataframe\">\n",
       "  <thead>\n",
       "    <tr style=\"text-align: right;\">\n",
       "      <th></th>\n",
       "      <th>obs_id</th>\n",
       "      <th>meter_id</th>\n",
       "      <th>Timestamp</th>\n",
       "      <th>Values</th>\n",
       "      <th>Date</th>\n",
       "      <th>DayOfWeek</th>\n",
       "      <th>site_id</th>\n",
       "      <th>meter_description</th>\n",
       "      <th>units</th>\n",
       "      <th>surface</th>\n",
       "      <th>...</th>\n",
       "      <th>Median_928</th>\n",
       "      <th>Values_930</th>\n",
       "      <th>Median_930</th>\n",
       "      <th>Values_935</th>\n",
       "      <th>Median_935</th>\n",
       "      <th>Values_938</th>\n",
       "      <th>Median_938</th>\n",
       "      <th>Values_234_203</th>\n",
       "      <th>Median_234_203</th>\n",
       "      <th>Temperature</th>\n",
       "    </tr>\n",
       "  </thead>\n",
       "  <tbody>\n",
       "    <tr>\n",
       "      <th>38</th>\n",
       "      <td>17244</td>\n",
       "      <td>234_203</td>\n",
       "      <td>2013-11-03 19:00:00</td>\n",
       "      <td>11.636</td>\n",
       "      <td>2013-11-03</td>\n",
       "      <td>Sunday</td>\n",
       "      <td>234_203</td>\n",
       "      <td>virtual main</td>\n",
       "      <td>kWh</td>\n",
       "      <td>5750.0</td>\n",
       "      <td>...</td>\n",
       "      <td>NaN</td>\n",
       "      <td>0.0</td>\n",
       "      <td>0.0</td>\n",
       "      <td>0.0</td>\n",
       "      <td>0.1</td>\n",
       "      <td>11.106</td>\n",
       "      <td>11.371000</td>\n",
       "      <td>11.106</td>\n",
       "      <td>11.371000</td>\n",
       "      <td>16.1</td>\n",
       "    </tr>\n",
       "    <tr>\n",
       "      <th>39</th>\n",
       "      <td>17254</td>\n",
       "      <td>234_203</td>\n",
       "      <td>2013-11-03 19:30:00</td>\n",
       "      <td>11.106</td>\n",
       "      <td>2013-11-03</td>\n",
       "      <td>Sunday</td>\n",
       "      <td>234_203</td>\n",
       "      <td>virtual main</td>\n",
       "      <td>kWh</td>\n",
       "      <td>5750.0</td>\n",
       "      <td>...</td>\n",
       "      <td>NaN</td>\n",
       "      <td>0.0</td>\n",
       "      <td>0.0</td>\n",
       "      <td>0.0</td>\n",
       "      <td>0.1</td>\n",
       "      <td>10.957</td>\n",
       "      <td>11.233000</td>\n",
       "      <td>10.957</td>\n",
       "      <td>11.233000</td>\n",
       "      <td>15.0</td>\n",
       "    </tr>\n",
       "    <tr>\n",
       "      <th>40</th>\n",
       "      <td>17241</td>\n",
       "      <td>234_203</td>\n",
       "      <td>2013-11-03 20:00:00</td>\n",
       "      <td>10.957</td>\n",
       "      <td>2013-11-03</td>\n",
       "      <td>Sunday</td>\n",
       "      <td>234_203</td>\n",
       "      <td>virtual main</td>\n",
       "      <td>kWh</td>\n",
       "      <td>5750.0</td>\n",
       "      <td>...</td>\n",
       "      <td>NaN</td>\n",
       "      <td>0.0</td>\n",
       "      <td>0.0</td>\n",
       "      <td>1.0</td>\n",
       "      <td>0.2</td>\n",
       "      <td>11.157</td>\n",
       "      <td>11.214000</td>\n",
       "      <td>11.157</td>\n",
       "      <td>11.214000</td>\n",
       "      <td>15.0</td>\n",
       "    </tr>\n",
       "    <tr>\n",
       "      <th>41</th>\n",
       "      <td>17243</td>\n",
       "      <td>234_203</td>\n",
       "      <td>2013-11-03 20:30:00</td>\n",
       "      <td>11.157</td>\n",
       "      <td>2013-11-03</td>\n",
       "      <td>Sunday</td>\n",
       "      <td>234_203</td>\n",
       "      <td>virtual main</td>\n",
       "      <td>kWh</td>\n",
       "      <td>5750.0</td>\n",
       "      <td>...</td>\n",
       "      <td>NaN</td>\n",
       "      <td>0.0</td>\n",
       "      <td>0.0</td>\n",
       "      <td>0.0</td>\n",
       "      <td>0.2</td>\n",
       "      <td>12.196</td>\n",
       "      <td>11.410400</td>\n",
       "      <td>12.196</td>\n",
       "      <td>11.410400</td>\n",
       "      <td>14.0</td>\n",
       "    </tr>\n",
       "    <tr>\n",
       "      <th>42</th>\n",
       "      <td>17240</td>\n",
       "      <td>234_203</td>\n",
       "      <td>2013-11-03 21:00:00</td>\n",
       "      <td>12.196</td>\n",
       "      <td>2013-11-03</td>\n",
       "      <td>Sunday</td>\n",
       "      <td>234_203</td>\n",
       "      <td>virtual main</td>\n",
       "      <td>kWh</td>\n",
       "      <td>5750.0</td>\n",
       "      <td>...</td>\n",
       "      <td>NaN</td>\n",
       "      <td>0.0</td>\n",
       "      <td>0.0</td>\n",
       "      <td>0.0</td>\n",
       "      <td>0.2</td>\n",
       "      <td>11.979</td>\n",
       "      <td>11.505167</td>\n",
       "      <td>11.979</td>\n",
       "      <td>11.505167</td>\n",
       "      <td>14.0</td>\n",
       "    </tr>\n",
       "  </tbody>\n",
       "</table>\n",
       "<p>5 rows × 54 columns</p>\n",
       "</div>"
      ],
      "text/plain": [
       "    obs_id meter_id           Timestamp  Values       Date DayOfWeek  site_id  \\\n",
       "38   17244  234_203 2013-11-03 19:00:00  11.636 2013-11-03    Sunday  234_203   \n",
       "39   17254  234_203 2013-11-03 19:30:00  11.106 2013-11-03    Sunday  234_203   \n",
       "40   17241  234_203 2013-11-03 20:00:00  10.957 2013-11-03    Sunday  234_203   \n",
       "41   17243  234_203 2013-11-03 20:30:00  11.157 2013-11-03    Sunday  234_203   \n",
       "42   17240  234_203 2013-11-03 21:00:00  12.196 2013-11-03    Sunday  234_203   \n",
       "\n",
       "   meter_description units  surface     ...      Median_928  Values_930  \\\n",
       "38      virtual main   kWh   5750.0     ...             NaN         0.0   \n",
       "39      virtual main   kWh   5750.0     ...             NaN         0.0   \n",
       "40      virtual main   kWh   5750.0     ...             NaN         0.0   \n",
       "41      virtual main   kWh   5750.0     ...             NaN         0.0   \n",
       "42      virtual main   kWh   5750.0     ...             NaN         0.0   \n",
       "\n",
       "    Median_930  Values_935  Median_935  Values_938  Median_938  \\\n",
       "38         0.0         0.0         0.1      11.106   11.371000   \n",
       "39         0.0         0.0         0.1      10.957   11.233000   \n",
       "40         0.0         1.0         0.2      11.157   11.214000   \n",
       "41         0.0         0.0         0.2      12.196   11.410400   \n",
       "42         0.0         0.0         0.2      11.979   11.505167   \n",
       "\n",
       "    Values_234_203  Median_234_203  Temperature  \n",
       "38          11.106       11.371000         16.1  \n",
       "39          10.957       11.233000         15.0  \n",
       "40          11.157       11.214000         15.0  \n",
       "41          12.196       11.410400         14.0  \n",
       "42          11.979       11.505167         14.0  \n",
       "\n",
       "[5 rows x 54 columns]"
      ]
     },
     "execution_count": 8,
     "metadata": {},
     "output_type": "execute_result"
    }
   ],
   "source": [
    "site_one_combined.head()"
   ]
  },
  {
   "cell_type": "code",
   "execution_count": 9,
   "metadata": {},
   "outputs": [
    {
     "data": {
      "text/plain": [
       "[<matplotlib.lines.Line2D at 0x2153df98>]"
      ]
     },
     "execution_count": 9,
     "metadata": {},
     "output_type": "execute_result"
    },
    {
     "data": {
      "image/png": "[encoded data removed]",
      "text/plain": [
       "<matplotlib.figure.Figure at 0xea83cc0>"
      ]
     },
     "metadata": {},
     "output_type": "display_data"
    }
   ],
   "source": [
    "plt.plot(site_one_combined['Timestamp'],site_one_combined['Values'])"
   ]
  },
  {
   "cell_type": "code",
   "execution_count": 10,
   "metadata": {},
   "outputs": [
    {
     "data": {
      "text/html": [
       "<div>\n",
       "<style scoped>\n",
       "    .dataframe tbody tr th:only-of-type {\n",
       "        vertical-align: middle;\n",
       "    }\n",
       "\n",
       "    .dataframe tbody tr th {\n",
       "        vertical-align: top;\n",
       "    }\n",
       "\n",
       "    .dataframe thead th {\n",
       "        text-align: right;\n",
       "    }\n",
       "</style>\n",
       "<table border=\"1\" class=\"dataframe\">\n",
       "  <thead>\n",
       "    <tr style=\"text-align: right;\">\n",
       "      <th></th>\n",
       "      <th>obs_id</th>\n",
       "      <th>meter_id</th>\n",
       "      <th>Timestamp</th>\n",
       "      <th>Values</th>\n",
       "      <th>Date</th>\n",
       "      <th>DayOfWeek</th>\n",
       "      <th>site_id</th>\n",
       "      <th>meter_description</th>\n",
       "      <th>units</th>\n",
       "      <th>surface</th>\n",
       "      <th>...</th>\n",
       "      <th>Median_928</th>\n",
       "      <th>Values_930</th>\n",
       "      <th>Median_930</th>\n",
       "      <th>Values_935</th>\n",
       "      <th>Median_935</th>\n",
       "      <th>Values_938</th>\n",
       "      <th>Median_938</th>\n",
       "      <th>Values_234_203</th>\n",
       "      <th>Median_234_203</th>\n",
       "      <th>Temperature</th>\n",
       "    </tr>\n",
       "  </thead>\n",
       "  <tbody>\n",
       "    <tr>\n",
       "      <th>56325</th>\n",
       "      <td>70450</td>\n",
       "      <td>234_203</td>\n",
       "      <td>2017-01-19 10:30:00</td>\n",
       "      <td>448.788</td>\n",
       "      <td>2017-01-19</td>\n",
       "      <td>Thursday</td>\n",
       "      <td>234_203</td>\n",
       "      <td>virtual main</td>\n",
       "      <td>kWh</td>\n",
       "      <td>5750.0</td>\n",
       "      <td>...</td>\n",
       "      <td>4.460321e-15</td>\n",
       "      <td>20.0</td>\n",
       "      <td>7.7</td>\n",
       "      <td>0.0</td>\n",
       "      <td>0.0</td>\n",
       "      <td>184.629</td>\n",
       "      <td>62.6441</td>\n",
       "      <td>448.788</td>\n",
       "      <td>150.3311</td>\n",
       "      <td>18.0</td>\n",
       "    </tr>\n",
       "    <tr>\n",
       "      <th>56326</th>\n",
       "      <td>70476</td>\n",
       "      <td>234_203</td>\n",
       "      <td>2017-01-19 11:00:00</td>\n",
       "      <td>448.788</td>\n",
       "      <td>2017-01-19</td>\n",
       "      <td>Thursday</td>\n",
       "      <td>234_203</td>\n",
       "      <td>virtual main</td>\n",
       "      <td>kWh</td>\n",
       "      <td>5750.0</td>\n",
       "      <td>...</td>\n",
       "      <td>4.460321e-15</td>\n",
       "      <td>20.0</td>\n",
       "      <td>9.4</td>\n",
       "      <td>0.0</td>\n",
       "      <td>0.0</td>\n",
       "      <td>184.629</td>\n",
       "      <td>78.4109</td>\n",
       "      <td>448.788</td>\n",
       "      <td>189.0680</td>\n",
       "      <td>18.0</td>\n",
       "    </tr>\n",
       "    <tr>\n",
       "      <th>56327</th>\n",
       "      <td>70468</td>\n",
       "      <td>234_203</td>\n",
       "      <td>2017-01-19 11:30:00</td>\n",
       "      <td>448.788</td>\n",
       "      <td>2017-01-19</td>\n",
       "      <td>Thursday</td>\n",
       "      <td>234_203</td>\n",
       "      <td>virtual main</td>\n",
       "      <td>kWh</td>\n",
       "      <td>5750.0</td>\n",
       "      <td>...</td>\n",
       "      <td>4.460321e-15</td>\n",
       "      <td>0.0</td>\n",
       "      <td>8.9</td>\n",
       "      <td>0.0</td>\n",
       "      <td>0.0</td>\n",
       "      <td>9.333</td>\n",
       "      <td>76.1855</td>\n",
       "      <td>23.512</td>\n",
       "      <td>184.4281</td>\n",
       "      <td>18.0</td>\n",
       "    </tr>\n",
       "  </tbody>\n",
       "</table>\n",
       "<p>3 rows × 54 columns</p>\n",
       "</div>"
      ],
      "text/plain": [
       "       obs_id meter_id           Timestamp   Values       Date DayOfWeek  \\\n",
       "56325   70450  234_203 2017-01-19 10:30:00  448.788 2017-01-19  Thursday   \n",
       "56326   70476  234_203 2017-01-19 11:00:00  448.788 2017-01-19  Thursday   \n",
       "56327   70468  234_203 2017-01-19 11:30:00  448.788 2017-01-19  Thursday   \n",
       "\n",
       "       site_id meter_description units  surface     ...         Median_928  \\\n",
       "56325  234_203      virtual main   kWh   5750.0     ...       4.460321e-15   \n",
       "56326  234_203      virtual main   kWh   5750.0     ...       4.460321e-15   \n",
       "56327  234_203      virtual main   kWh   5750.0     ...       4.460321e-15   \n",
       "\n",
       "       Values_930  Median_930  Values_935  Median_935  Values_938  Median_938  \\\n",
       "56325        20.0         7.7         0.0         0.0     184.629     62.6441   \n",
       "56326        20.0         9.4         0.0         0.0     184.629     78.4109   \n",
       "56327         0.0         8.9         0.0         0.0       9.333     76.1855   \n",
       "\n",
       "       Values_234_203  Median_234_203  Temperature  \n",
       "56325         448.788        150.3311         18.0  \n",
       "56326         448.788        189.0680         18.0  \n",
       "56327          23.512        184.4281         18.0  \n",
       "\n",
       "[3 rows x 54 columns]"
      ]
     },
     "execution_count": 10,
     "metadata": {},
     "output_type": "execute_result"
    }
   ],
   "source": [
    "site_one_combined[site_one_combined.Values>200]"
   ]
  },
  {
   "cell_type": "code",
   "execution_count": 41,
   "metadata": {},
   "outputs": [],
   "source": [
    "x_site_one_columns = [x for x in site_one_combined.select_dtypes(include='object') if x not in ['obs_id','meter_id','site_id']]\n",
    "x_train_site_one = pd.get_dummies(site_one_combined, columns = x_site_one_columns).ffill().bfill()\n",
    "x_train_site_one.TimestampSeconds = x_train_site_one.Timestamp.apply (lambda x: time.mktime(x.timetuple()))\n",
    "#features = [x for x in x_train_site_one.columns if x not in ['Timestamp','meter_id','Date']]\n",
    "#x_train_site_one.loc[(x_train_site_one.obs_id==70476) & (x_train_site_one.meter_id=='234_203'),'Values'] = np.nan\n",
    "#x_train_site_one.loc[(x_train_site_one.obs_id==70468) & (x_train_site_one.meter_id=='234_203'),'Values'] = np.nan\n",
    "features_one = x_train_site_one[['Values','surface', 'isHoliday', 'isHolidayTomorrow',\n",
    "       'isHolidayYesterday', 'Temperature', 'DayOfWeek_Friday', 'DayOfWeek_Monday',\n",
    "       'DayOfWeek_Saturday', 'DayOfWeek_Sunday', 'DayOfWeek_Thursday',\n",
    "       'DayOfWeek_Tuesday', 'DayOfWeek_Wednesday', 'activity_office']].columns\n",
    "scaler_one = preprocessing.RobustScaler(quantile_range=(25, 75))\n",
    "data_one  = pd.DataFrame(scaler_one.fit_transform(x_train_site_one[features_one]))\n",
    "prediction_time = 1\n",
    "testdatasize = 25000\n",
    "unroll_length = 42\n",
    "testdatacut = testdatasize + unroll_length+1"
   ]
  },
  {
   "cell_type": "code",
   "execution_count": 42,
   "metadata": {},
   "outputs": [],
   "source": [
    "x_train = data_one.as_matrix()\n",
    "y_train = data_one[0].as_matrix()"
   ]
  },
  {
   "cell_type": "code",
   "execution_count": 43,
   "metadata": {},
   "outputs": [
    {
     "name": "stdout",
     "output_type": "stream",
     "text": [
      "x_train (72928, 42, 14)\n",
      "y_train (72928,)\n"
     ]
    }
   ],
   "source": [
    "def unroll(data,sequence_length=24):\n",
    "    result = []\n",
    "    for index in range(len(data) - sequence_length):\n",
    "        result.append(data[index: index + sequence_length])\n",
    "    return np.asarray(result)\n",
    "\n",
    "# adapt the datasets for the sequence data shape\n",
    "x_train = unroll(x_train,unroll_length)\n",
    "y_train = y_train[-x_train.shape[0]:]\n",
    "\n",
    "# see the shape\n",
    "print(\"x_train\", x_train.shape)\n",
    "print(\"y_train\", y_train.shape)"
   ]
  },
  {
   "cell_type": "code",
   "execution_count": 46,
   "metadata": {},
   "outputs": [
    {
     "name": "stdout",
     "output_type": "stream",
     "text": [
      "compilation time : 0.04679989814758301\n"
     ]
    }
   ],
   "source": [
    "# Build the model\n",
    "#validation_split = 0.1\n",
    "batch_size = len(x_train)\n",
    "look_back = 42\n",
    "model_one = Sequential()\n",
    "\n",
    "model_one.add(LSTM(\n",
    "    input_dim=x_train.shape[-1],\n",
    "    batch_input_shape = (batch_size, look_back,14),\n",
    "    output_dim=42,\n",
    "    return_sequences=True, stateful = True))\n",
    "model_one.add(Dropout(0.2))\n",
    "\n",
    "model_one.add(LSTM(\n",
    "    100,\n",
    "    return_sequences=False, stateful = True))\n",
    "model_one.add(Dropout(0.2))\n",
    "\n",
    "model_one.add(Dense(\n",
    "    units=1))\n",
    "model_one.add(Activation('linear'))\n",
    "\n",
    "start = time.time()\n",
    "model_one.compile(loss='mse', optimizer='rmsprop')\n",
    "print('compilation time : {}'.format(time.time() - start))"
   ]
  },
  {
   "cell_type": "code",
   "execution_count": null,
   "metadata": {},
   "outputs": [],
   "source": [
    "batch_size = len(x_train)\n",
    "for i in range(10):\n",
    "    model_one.train_on_batch(x_train,y_train)\n",
    "    model_one.reset_states()"
   ]
  },
  {
   "cell_type": "code",
   "execution_count": 48,
   "metadata": {},
   "outputs": [
    {
     "name": "stdout",
     "output_type": "stream",
     "text": [
      "Saved model to disk\n"
     ]
    }
   ],
   "source": [
    "\n",
    "# serialize model to JSON\n",
    "model_json = model_one.to_json()\n",
    "with open(\"model_one.json\", \"w\") as json_file:\n",
    "    json_file.write(model_json)\n",
    "# serialize weights to HDF5\n",
    "model_one.save_weights(\"model2.h5\")\n",
    "print(\"Saved model to disk\")\n"
   ]
  },
  {
   "cell_type": "code",
   "execution_count": null,
   "metadata": {},
   "outputs": [],
   "source": [
    "# load json and create model\n",
    "\"\"\"\n",
    "json_file = open('model_one.json', 'r')\n",
    "loaded_model_json = json_file.read()\n",
    "json_file.close()\n",
    "loaded_model = model_from_json(loaded_model_json)\n",
    "# load weights into new model\n",
    "loaded_model.load_weights(\"model.h5\")\n",
    "print(\"Loaded model from disk\")\n",
    "\"\"\""
   ]
  },
  {
   "cell_type": "code",
   "execution_count": 50,
   "metadata": {},
   "outputs": [],
   "source": [
    "loaded_model = model_one\n",
    "diff=[]\n",
    "ratio=[]\n",
    "p = loaded_model.predict(x_train, batch_size = len(x_train))\n",
    "# predictions = lstm.predict_sequences_multiple(loaded_model, x_test, 50, 50)\n",
    "for u in range(len(y_train)):\n",
    "    pr = p[u][0]\n",
    "    ratio.append((y_train[u]/pr)-1)\n",
    "    diff.append((y_train[u]- pr))"
   ]
  },
  {
   "cell_type": "code",
   "execution_count": null,
   "metadata": {},
   "outputs": [],
   "source": [
    "72928 /32"
   ]
  },
  {
   "cell_type": "code",
   "execution_count": 51,
   "metadata": {},
   "outputs": [
    {
     "name": "stdout",
     "output_type": "stream",
     "text": [
      "0.0    72626\n",
      "1.0       72\n",
      "Name: isabnormal, dtype: int64\n"
     ]
    }
   ],
   "source": [
    "# select the most distant prediction/reality data points as anomalies\n",
    "outliers_fraction = 0.001\n",
    "diff = pd.Series(diff)\n",
    "number_of_outliers = int(outliers_fraction*len(diff))\n",
    "threshold = diff.nlargest(number_of_outliers).min()\n",
    "# data with anomaly label (test data part)\n",
    "test = (diff >= threshold).astype(int)\n",
    "x_train_site_one['isabnormal'] = test\n",
    "print(x_train_site_one['isabnormal'].value_counts())"
   ]
  },
  {
   "cell_type": "code",
   "execution_count": 53,
   "metadata": {},
   "outputs": [
    {
     "name": "stdout",
     "output_type": "stream",
     "text": [
      "1.51449954683\n"
     ]
    }
   ],
   "source": [
    "print(threshold)"
   ]
  },
  {
   "cell_type": "code",
   "execution_count": 54,
   "metadata": {},
   "outputs": [
    {
     "data": {
      "image/png": "[encoded data removed]",
      "text/plain": [
       "<matplotlib.figure.Figure at 0x1e614b00>"
      ]
     },
     "metadata": {},
     "output_type": "display_data"
    }
   ],
   "source": [
    "# visualisation of anomaly throughout time (viz 1)\n",
    "fig, ax = plt.subplots()\n",
    "a = x_train_site_one.loc[x_train_site_one['isabnormal'] == 1, ['Timestamp', 'Values']] #\n",
    "a['Values'] = threshold\n",
    "ax.plot(pd.Series(diff), color='blue')\n",
    "ax.plot(a['Values'], color='red')\n",
    "#plt.axis([-100, 100, 3,30])\n",
    "plt.show()"
   ]
  },
  {
   "cell_type": "code",
   "execution_count": null,
   "metadata": {},
   "outputs": [],
   "source": []
  },
  {
   "cell_type": "code",
   "execution_count": null,
   "metadata": {},
   "outputs": [],
   "source": [
    "site_one_pred = pd.DataFrame(data=y_pred_site_one, columns=['isabnormal'], index=x_train_site_one.index)\n",
    "site_one_pred = pd.merge(site_one_pred, x_train_site_one, left_index=True,right_index=True)[['obs_id','meter_id','Timestamp','isabnormal']]"
   ]
  },
  {
   "cell_type": "code",
   "execution_count": null,
   "metadata": {},
   "outputs": [],
   "source": [
    "site_one_pred[(site_one_pred.obs_id=='70450') & (site_one_pred.meter_id=='234_203')]\n",
    "#70450\t234_203\n",
    "#70476\t234_203\n",
    "#70468\t234_203"
   ]
  },
  {
   "cell_type": "code",
   "execution_count": null,
   "metadata": {},
   "outputs": [],
   "source": [
    "x_site_two_columns = [x for x in site_two_combined.select_dtypes(include='object') if x not in ['obs_id','meter_id','site_id']]\n",
    "x_train_site_two = pd.get_dummies(site_two_combined, columns = x_site_two_columns).ffill().bfill()\n",
    "x_train_site_two.TimestampSeconds = x_train_site_two.Timestamp.apply (lambda x: time.mktime(x.timetuple()))\n",
    "features = [x for x in x_train_site_two.columns if x not in ['Timestamp','Date']]\n",
    "#clf_site_two = IsolationForest()\n",
    "clf_site_two = LocalOutlierFactor()\n",
    "y_pred_site_two = clf_site_two.fit_predict(x_train_site_two[features])\n",
    "#y_pred_site_two = clf_site_two.predict(x_train_site_two[features])"
   ]
  },
  {
   "cell_type": "code",
   "execution_count": null,
   "metadata": {},
   "outputs": [],
   "source": [
    "site_two_pred = pd.DataFrame(data=y_pred_site_two, columns=['isabnormal'], index=x_train_site_two.index)\n",
    "site_two_pred = pd.merge(site_two_pred, x_train_site_two, left_index=True,right_index=True)[['obs_id','meter_id','Timestamp','isabnormal']]"
   ]
  },
  {
   "cell_type": "code",
   "execution_count": null,
   "metadata": {},
   "outputs": [],
   "source": [
    "x_site_three_columns = [x for x in site_three_combined.select_dtypes(include='object') if x not in ['obs_id','meter_id','site_id']]\n",
    "x_train_site_three = pd.get_dummies(site_three_combined, columns = x_site_three_columns).ffill().bfill()\n",
    "x_train_site_three.TimestampSeconds = x_train_site_three.Timestamp.apply (lambda x: time.mktime(x.timetuple()))\n",
    "features = [x for x in x_train_site_three.columns if x not in ['Timestamp','Date']]\n",
    "#clf_site_three = IsolationForest()\n",
    "clf_site_three = LocalOutlierFactor()\n",
    "y_pred_site_three= clf_site_three.fit_predict(x_train_site_three[features])\n",
    "#y_pred_site_three = clf_site_three.predict(x_train_site_three[features])"
   ]
  },
  {
   "cell_type": "code",
   "execution_count": null,
   "metadata": {},
   "outputs": [],
   "source": [
    "site_three_pred = pd.DataFrame(data=y_pred_site_three, columns=['isabnormal'], index=x_train_site_three.index)\n",
    "site_three_pred = pd.merge(site_three_pred, x_train_site_three, left_index=True,right_index=True)[['obs_id','meter_id','Timestamp','isabnormal']]"
   ]
  },
  {
   "cell_type": "code",
   "execution_count": null,
   "metadata": {},
   "outputs": [],
   "source": [
    "submission_raw = pd.concat([site_one_pred, site_two_pred, site_three_pred])\n",
    "submission_raw = submission_raw.groupby(['meter_id','Timestamp']).min().reset_index()"
   ]
  },
  {
   "cell_type": "code",
   "execution_count": null,
   "metadata": {},
   "outputs": [],
   "source": [
    "submission_format = pd.read_csv(data_paths['submission_format'])\n",
    "submission_format['Timestamp'] = pd.to_datetime(submission_format['Timestamp'])"
   ]
  },
  {
   "cell_type": "code",
   "execution_count": null,
   "metadata": {},
   "outputs": [],
   "source": [
    "len(submission_raw)"
   ]
  },
  {
   "cell_type": "code",
   "execution_count": null,
   "metadata": {},
   "outputs": [],
   "source": [
    "len(submission_format)"
   ]
  },
  {
   "cell_type": "code",
   "execution_count": null,
   "metadata": {},
   "outputs": [],
   "source": [
    "submission = pd.merge(submission_format,submission_raw, left_on=['meter_id','Timestamp'],\\\n",
    "                      right_on=['meter_id','Timestamp'],\n",
    "                      suffixes = ['','_raw'])"
   ]
  },
  {
   "cell_type": "code",
   "execution_count": null,
   "metadata": {},
   "outputs": [],
   "source": [
    "submission.head()"
   ]
  },
  {
   "cell_type": "code",
   "execution_count": null,
   "metadata": {},
   "outputs": [],
   "source": [
    "submission.loc[submission.isabnormal==-1,'is_abnormal'] = True"
   ]
  },
  {
   "cell_type": "code",
   "execution_count": null,
   "metadata": {},
   "outputs": [],
   "source": [
    "submission.head()"
   ]
  },
  {
   "cell_type": "code",
   "execution_count": null,
   "metadata": {},
   "outputs": [],
   "source": [
    "submission = submission[submission_format.columns]"
   ]
  },
  {
   "cell_type": "code",
   "execution_count": null,
   "metadata": {},
   "outputs": [],
   "source": [
    "submission.to_csv('submission.csv', index=False)"
   ]
  },
  {
   "cell_type": "code",
   "execution_count": null,
   "metadata": {},
   "outputs": [],
   "source": [
    "submission.head()"
   ]
  },
  {
   "cell_type": "code",
   "execution_count": null,
   "metadata": {},
   "outputs": [],
   "source": []
  }
 ],
 "metadata": {
  "kernelspec": {
   "display_name": "Python 3",
   "language": "python",
   "name": "python3"
  },
  "language_info": {
   "codemirror_mode": {
    "name": "ipython",
    "version": 3
   },
   "file_extension": ".py",
   "mimetype": "text/x-python",
   "name": "python",
   "nbconvert_exporter": "python",
   "pygments_lexer": "ipython3",
   "version": "3.6.4"
  }
 },
 "nbformat": 4,
 "nbformat_minor": 2
}
